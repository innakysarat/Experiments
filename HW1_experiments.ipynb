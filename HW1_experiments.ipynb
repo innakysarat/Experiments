{
 "cells": [
  {
   "cell_type": "code",
   "execution_count": 2,
   "metadata": {},
   "outputs": [],
   "source": [
    "import pandas as pd\n",
    "import matplotlib.pyplot as plt\n",
    "import numpy as np\n",
    "import seaborn as sns\n",
    "import datetime\n",
    "import random\n",
    "from statsmodels.stats.power import tt_ind_solve_power\n",
    "\n",
    "def date_converter(x):\n",
    "    return datetime.datetime.strptime(x,'%Y-%m-%d')"
   ]
  },
  {
   "cell_type": "markdown",
   "metadata": {},
   "source": [
    "Срок выполнения задания: 17 марта 17:00.\n",
    "\n",
    "\n",
    "### Задание\n",
    "Вам предстоит разработать дизайн эксперимента по тестированию монетизационных продуктов.\n",
    "В конечном счёте, в монетизационных продуктах нас всегда интересует увеличение выручки, \n",
    "но к сожалению не всегда мы можем зафиксировать изменение именно этой метрики.\n",
    "\n",
    "#### Кейс\n",
    "Вы аналитик в продуктовой дискавери команде.\n",
    "На текущий момент приближается начало нового квартала и вам необходимо спланировать\n",
    "эксперименты в нём.\n",
    "\n",
    "У вас есть два продукта:\n",
    "- один базовый продукт, который предоставляет минимальный набор услуг на вашем ресурсе;\n",
    "- один продвинутый продукт, который предоставляет расширенный набор услуг.\n",
    "\n",
    "На текущий момент на квартал у вашей команды есть для проверки две гипотезы:\n",
    "- Дополнительное информирование об эффективности услуг будет стимулировать их покупку;\n",
    "- Повышение цены базового продукта должно стимулировать покупку продвинутого продукта\n"
   ]
  },
  {
   "cell_type": "markdown",
   "metadata": {},
   "source": [
    "#### Для планирования эксперимента изучите данные и метрики (2 балла):\n",
    "\n",
    "- Загрузите файл и изучите данные;\n",
    "- Подумайте над тем, какие метрики можно выделить на основе этих данных: выручка, пользователи, транзакции, средний чек и т.д.\n",
    "- Постройте графики плотности распределения для этих метрик и сделайте выводы о характере распределений: тип, наличие выбросов, насколько сильный разброс;\n",
    "- Изучите основные статистики этих метрик: среднее, стандартное отклонение;\n",
    "- Изучите то, насколько эти статистики подвержены сезональности.\n",
    "\n",
    "\n",
    "#### Формализуйте гипотезы (4 балла):\n",
    "\n",
    "- Опишите метрики и статистики, изменение которых вы ожидаете;\n",
    "- Предположите какое относительное изменение этих статистик в процентах вы ожидаете.\n",
    "\n",
    "#### Предскажите минимально детектируемый эффект для своих метрик и спланируйте эксперименты внутри квартала (4 балла):\n",
    "\n",
    "- Принимая в расчёт максимально возможные размеры групп и ограничения по длительности в квартал рассмотрите разные планы проведения тестов и предскажите их чувствительность;\n",
    "- Определите наиболее оптимальный план экспериментов. Обоснуйте, почему вы его считаете оптимальным.\n",
    "\n",
    "\n",
    "#### * Оптимизация плана (2 балла):\n",
    "Предложите варианты ускорения экспериментов — всегда могут образоваться ситуации, когда ваши гипотезы не подтвердились и они требуют изменения или уточнения и необходимости повторных тестов. Цели достигать всегда хорошо в рамках отведённого на них срока. Какие параметры экспериментов вы поменяете? К каким последствиям могут привести такие изменения?"
   ]
  },
  {
   "cell_type": "markdown",
   "metadata": {},
   "source": [
    "#### Описание данныx\n",
    "\n",
    "event_date - дата \n",
    "\n",
    "user_id - идентификатор пользователя\n",
    "\n",
    "product - тип продукта\n",
    "\n",
    "amount - сумма покупок\n",
    "\n",
    "transactions - количество транзакций\n"
   ]
  },
  {
   "cell_type": "code",
   "execution_count": 3,
   "metadata": {},
   "outputs": [],
   "source": [
    "df = pd.read_csv('user_transactions.csv')\n",
    "df['event_date'] = df.event_date.apply(date_converter)"
   ]
  },
  {
   "cell_type": "code",
   "execution_count": 88,
   "metadata": {},
   "outputs": [
    {
     "data": {
      "text/html": [
       "<div>\n",
       "<style scoped>\n",
       "    .dataframe tbody tr th:only-of-type {\n",
       "        vertical-align: middle;\n",
       "    }\n",
       "\n",
       "    .dataframe tbody tr th {\n",
       "        vertical-align: top;\n",
       "    }\n",
       "\n",
       "    .dataframe thead th {\n",
       "        text-align: right;\n",
       "    }\n",
       "</style>\n",
       "<table border=\"1\" class=\"dataframe\">\n",
       "  <thead>\n",
       "    <tr style=\"text-align: right;\">\n",
       "      <th></th>\n",
       "      <th>event_date</th>\n",
       "      <th>user_id</th>\n",
       "      <th>product</th>\n",
       "      <th>amount</th>\n",
       "      <th>transactions</th>\n",
       "    </tr>\n",
       "  </thead>\n",
       "  <tbody>\n",
       "    <tr>\n",
       "      <th>1278176</th>\n",
       "      <td>2020-12-29</td>\n",
       "      <td>9093784927589212377</td>\n",
       "      <td>basic</td>\n",
       "      <td>110.0</td>\n",
       "      <td>1</td>\n",
       "    </tr>\n",
       "    <tr>\n",
       "      <th>1278177</th>\n",
       "      <td>2020-12-29</td>\n",
       "      <td>9141192109375648623</td>\n",
       "      <td>basic</td>\n",
       "      <td>130.0</td>\n",
       "      <td>1</td>\n",
       "    </tr>\n",
       "    <tr>\n",
       "      <th>1278178</th>\n",
       "      <td>2020-12-29</td>\n",
       "      <td>9145211684315137844</td>\n",
       "      <td>basic</td>\n",
       "      <td>100.0</td>\n",
       "      <td>1</td>\n",
       "    </tr>\n",
       "    <tr>\n",
       "      <th>1278179</th>\n",
       "      <td>2020-12-29</td>\n",
       "      <td>9156579950701208100</td>\n",
       "      <td>advanced</td>\n",
       "      <td>999.0</td>\n",
       "      <td>1</td>\n",
       "    </tr>\n",
       "    <tr>\n",
       "      <th>1278180</th>\n",
       "      <td>2020-12-29</td>\n",
       "      <td>9163888682358806390</td>\n",
       "      <td>basic</td>\n",
       "      <td>130.0</td>\n",
       "      <td>1</td>\n",
       "    </tr>\n",
       "    <tr>\n",
       "      <th>1278181</th>\n",
       "      <td>2020-12-29</td>\n",
       "      <td>9175681616034416929</td>\n",
       "      <td>advanced</td>\n",
       "      <td>679.0</td>\n",
       "      <td>1</td>\n",
       "    </tr>\n",
       "    <tr>\n",
       "      <th>1278182</th>\n",
       "      <td>2020-12-29</td>\n",
       "      <td>9190225485662720178</td>\n",
       "      <td>advanced</td>\n",
       "      <td>439.0</td>\n",
       "      <td>1</td>\n",
       "    </tr>\n",
       "    <tr>\n",
       "      <th>1278183</th>\n",
       "      <td>2020-12-29</td>\n",
       "      <td>9192452502210580022</td>\n",
       "      <td>basic</td>\n",
       "      <td>149.0</td>\n",
       "      <td>1</td>\n",
       "    </tr>\n",
       "    <tr>\n",
       "      <th>1278184</th>\n",
       "      <td>2020-12-29</td>\n",
       "      <td>9202424686732081420</td>\n",
       "      <td>basic</td>\n",
       "      <td>947.0</td>\n",
       "      <td>3</td>\n",
       "    </tr>\n",
       "    <tr>\n",
       "      <th>1278185</th>\n",
       "      <td>2020-12-29</td>\n",
       "      <td>9219633945080038962</td>\n",
       "      <td>basic</td>\n",
       "      <td>79.0</td>\n",
       "      <td>1</td>\n",
       "    </tr>\n",
       "  </tbody>\n",
       "</table>\n",
       "</div>"
      ],
      "text/plain": [
       "        event_date              user_id   product  amount  transactions\n",
       "1278176 2020-12-29  9093784927589212377     basic   110.0             1\n",
       "1278177 2020-12-29  9141192109375648623     basic   130.0             1\n",
       "1278178 2020-12-29  9145211684315137844     basic   100.0             1\n",
       "1278179 2020-12-29  9156579950701208100  advanced   999.0             1\n",
       "1278180 2020-12-29  9163888682358806390     basic   130.0             1\n",
       "1278181 2020-12-29  9175681616034416929  advanced   679.0             1\n",
       "1278182 2020-12-29  9190225485662720178  advanced   439.0             1\n",
       "1278183 2020-12-29  9192452502210580022     basic   149.0             1\n",
       "1278184 2020-12-29  9202424686732081420     basic   947.0             3\n",
       "1278185 2020-12-29  9219633945080038962     basic    79.0             1"
      ]
     },
     "execution_count": 88,
     "metadata": {},
     "output_type": "execute_result"
    }
   ],
   "source": [
    "df.tail(10)"
   ]
  },
  {
   "cell_type": "code",
   "execution_count": 159,
   "metadata": {},
   "outputs": [
    {
     "data": {
      "text/plain": [
       "(1278186, 5)"
      ]
     },
     "execution_count": 159,
     "metadata": {},
     "output_type": "execute_result"
    }
   ],
   "source": [
    "df.shape"
   ]
  },
  {
   "cell_type": "markdown",
   "metadata": {},
   "source": [
    "Для начала исследуем общий график распределения метрики Average Revenue Per User, а затем для пользователей базового тарифа и продвинутого тарифа по отдельности"
   ]
  },
  {
   "cell_type": "code",
   "execution_count": 194,
   "metadata": {},
   "outputs": [
    {
     "name": "stdout",
     "output_type": "stream",
     "text": [
      "Min amount = 8.00\n",
      "Max amount = 1869.00\n",
      "Scatter in the data = 1861.00\n"
     ]
    },
    {
     "data": {
      "text/plain": [
       "<AxesSubplot:title={'center':'Histogram of Average Revenue Per User'}, xlabel='Average Revenue Per User', ylabel='Amount of people'>"
      ]
     },
     "execution_count": 194,
     "metadata": {},
     "output_type": "execute_result"
    },
    {
     "data": {
      "image/png": "[encoded data removed]",
      "text/plain": [
       "<Figure size 432x288 with 1 Axes>"
      ]
     },
     "metadata": {
      "needs_background": "light"
     },
     "output_type": "display_data"
    }
   ],
   "source": [
    "total = df.groupby('user_id')\n",
    "arpu = total.amount.sum() / total.transactions.sum()\n",
    "\n",
    "arpu_mean, arpu_std = arpu.mean(), arpu.std()\n",
    "plt = arpu.hist(bins=100)\n",
    "plt.set_xlim([8, 1500])\n",
    "\n",
    "plt.axvline(arpu_mean, color='r', linestyle='dashed', linewidth=1)\n",
    "plt.text(arpu_mean*1.05, 65000*0.9, 'Mean: {:.2f}'.format(arpu_mean))\n",
    "\n",
    "plt.axvline(arpu_std, color='k', linestyle='dashed', linewidth=1)\n",
    "plt.text(arpu_std*1.1, 60000*0.9, 'Std: {:.2f}'.format(arpu_std))\n",
    "\n",
    "plt.set_xlabel('Average Revenue Per User')\n",
    "plt.set_ylabel('Amount of people')\n",
    "plt.set_title('Histogram of Average Revenue Per User')\n",
    "\n",
    "arpu_max, arpu_min = arpu.max(), arpu.min()\n",
    "print('Min amount = {:.2f}'.format(arpu_min))\n",
    "print('Max amount = {:.2f}'.format(arpu_max))\n",
    "print('Scatter in the data = {:.2f}'.format(arpu_max - arpu_min))\n",
    "plt"
   ]
  },
  {
   "cell_type": "markdown",
   "metadata": {},
   "source": [
    "График распределения ARPU для пользователей basic product"
   ]
  },
  {
   "cell_type": "code",
   "execution_count": 193,
   "metadata": {},
   "outputs": [
    {
     "name": "stdout",
     "output_type": "stream",
     "text": [
      "Min amount = 8.00\n",
      "Max amount = 529.00\n",
      "Scatter in the data = 521.00\n"
     ]
    },
    {
     "data": {
      "text/plain": [
       "<AxesSubplot:title={'center':'Histogram of Average Revenue for Basic Product'}, xlabel='Average Revenue Per User', ylabel='Amount of people'>"
      ]
     },
     "execution_count": 193,
     "metadata": {},
     "output_type": "execute_result"
    },
    {
     "data": {
      "image/png": "[encoded data removed]",
      "text/plain": [
       "<Figure size 432x288 with 1 Axes>"
      ]
     },
     "metadata": {
      "needs_background": "light"
     },
     "output_type": "display_data"
    }
   ],
   "source": [
    "basic = df[df['product'] == 'basic'].groupby('user_id')\n",
    "basic_mean = basic['amount'].sum() / basic.transactions.sum()\n",
    "basic_arpu_mean = basic_mean.mean()\n",
    "basic_arpu_std = basic_mean.std()\n",
    "\n",
    "plt = basic_mean.hist(bins=300)\n",
    "plt.set_xlim([8, 300])\n",
    "\n",
    "plt.axvline(basic_arpu_mean, color='r', linestyle='dashed', linewidth=1)\n",
    "plt.text(basic_arpu_mean*1.07, 25000*0.9, 'Mean: {:.2f}'.format(basic_arpu_mean))\n",
    "\n",
    "plt.axvline(basic_arpu_std, color='r', linestyle='dashed', linewidth=1)\n",
    "plt.text(basic_arpu_std*1.05, 27000*0.9, 'Std: {:.2f}'.format(basic_arpu_std))\n",
    "\n",
    "plt.set_xlabel('Average Revenue Per User')\n",
    "plt.set_ylabel('Amount of people')\n",
    "plt.set_title('Histogram of Average Revenue for Basic Product')\n",
    "\n",
    "basic_min, basic_max = basic_mean.min(), basic_mean.max()\n",
    "print('Min amount = {:.2f}'.format(basic_min))\n",
    "print('Max amount = {:.2f}'.format(basic_max))\n",
    "print('Scatter in the data = {:.2f}'.format(basic_max - basic_min))\n",
    "plt"
   ]
  },
  {
   "cell_type": "markdown",
   "metadata": {},
   "source": [
    "График распределения ARPU для пользователей advanced product"
   ]
  },
  {
   "cell_type": "code",
   "execution_count": 204,
   "metadata": {},
   "outputs": [
    {
     "name": "stdout",
     "output_type": "stream",
     "text": [
      "Min amount = 20.00\n",
      "Max amount = 1869.00\n",
      "Scatter in the data = 1849.00\n"
     ]
    },
    {
     "data": {
      "text/plain": [
       "<AxesSubplot:title={'center':'Histogram of Average Revenue for Advanced Product'}, xlabel='Average Revenue Per User', ylabel='Amount of people'>"
      ]
     },
     "execution_count": 204,
     "metadata": {},
     "output_type": "execute_result"
    },
    {
     "data": {
      "image/png": "[encoded data removed]",
      "text/plain": [
       "<Figure size 432x288 with 1 Axes>"
      ]
     },
     "metadata": {
      "needs_background": "light"
     },
     "output_type": "display_data"
    }
   ],
   "source": [
    "advanced = df[df['product'] == 'advanced'].groupby('user_id')\n",
    "advanced_mean = advanced['amount'].sum() / advanced.transactions.sum()\n",
    "advanced_arpu_mean, advanced_arpu_std = advanced_mean.mean(), advanced_mean.std()\n",
    "\n",
    "plt = advanced_mean.hist(bins=300)\n",
    "plt.set_xlim([20, 800])\n",
    "\n",
    "plt.axvline(advanced_arpu_mean, color='r', linestyle='dashed', linewidth=1)\n",
    "plt.text(advanced_arpu_mean*1.05, 7000*0.9, 'Mean: {:.2f}'.format(advanced_arpu_mean))\n",
    "\n",
    "plt.axvline(advanced_arpu_std, color='k', linestyle='dashed', linewidth=1)\n",
    "plt.text(advanced_arpu_std*1.05, 7600*0.9, 'Std: {:.2f}'.format(advanced_arpu_std))\n",
    "\n",
    "plt.set_xlabel('Average Revenue Per User')\n",
    "plt.set_ylabel('Amount of people')\n",
    "plt.set_title('Histogram of Average Revenue for Advanced Product')\n",
    "\n",
    "\n",
    "advanced_min, advanced_max = advanced_mean.min(), advanced_mean.max()\n",
    "print('Min amount = {:.2f}'.format(advanced_min))\n",
    "print('Max amount = {:.2f}'.format(advanced_max))\n",
    "print('Scatter in the data = {:.2f}'.format(advanced_max - advanced_min))                                \n",
    "plt"
   ]
  },
  {
   "cell_type": "markdown",
   "metadata": {},
   "source": [
    "Теперь посмотрим на распределение кол-ва транзакций (общее/базового продукта/продвинутого продукта)"
   ]
  },
  {
   "cell_type": "code",
   "execution_count": 98,
   "metadata": {},
   "outputs": [
    {
     "name": "stdout",
     "output_type": "stream",
     "text": [
      "Min count = 1\n",
      "Max count = 3070\n",
      "Scatter in the data = 3069\n",
      "Mean value = 3.70\n",
      "Std value = 16.52\n"
     ]
    },
    {
     "data": {
      "text/plain": [
       "<AxesSubplot:>"
      ]
     },
     "execution_count": 98,
     "metadata": {},
     "output_type": "execute_result"
    },
    {
     "data": {
      "image/png": "[encoded data removed]",
      "text/plain": [
       "<Figure size 432x288 with 1 Axes>"
      ]
     },
     "metadata": {
      "needs_background": "light"
     },
     "output_type": "display_data"
    }
   ],
   "source": [
    "transactions_count = total['transactions'].sum()\n",
    "plt = transactions_count.hist(bins=100)\n",
    "plt.set_xlim([1, 500])\n",
    "transactions_max, transactions_min = transactions_count.max(), transactions_count.min()\n",
    "print('Min count =', transactions_min)\n",
    "print('Max count =', transactions_max)\n",
    "print('Scatter in the data =', transactions_max-transactions_min)\n",
    "print('Mean value = {:.2f}'.format(transactions_count.mean()))\n",
    "print('Std value = {:.2f}'.format(transactions_count.std()))\n",
    "plt"
   ]
  },
  {
   "cell_type": "code",
   "execution_count": 99,
   "metadata": {},
   "outputs": [
    {
     "name": "stdout",
     "output_type": "stream",
     "text": [
      "Min count = 1\n",
      "Max count = 2710\n",
      "Scatter in the data= 2709\n",
      "Mean value = 3.57\n",
      "Std value = 15.21\n"
     ]
    },
    {
     "data": {
      "text/plain": [
       "<AxesSubplot:>"
      ]
     },
     "execution_count": 99,
     "metadata": {},
     "output_type": "execute_result"
    },
    {
     "data": {
      "image/png": "[encoded data removed]",
      "text/plain": [
       "<Figure size 432x288 with 1 Axes>"
      ]
     },
     "metadata": {
      "needs_background": "light"
     },
     "output_type": "display_data"
    }
   ],
   "source": [
    "basic_transactions_count = basic['transactions'].sum()\n",
    "plt = basic_transactions_count.hist(bins=100)\n",
    "plt.set_xlim([1, 500])\n",
    "basic_transactions_min, basic_transactions_max = basic_transactions_count.min(), basic_transactions_count.max()\n",
    "print('Min count =', basic_transactions_min)\n",
    "print('Max count =', basic_transactions_max)\n",
    "print('Scatter in the data=', basic_transactions_max - basic_transactions_min)\n",
    "print('Mean value = {:.2f}'.format(basic_transactions_count.mean()))\n",
    "print('Std value = {:.2f}'.format(basic_transactions_count.std()))\n",
    "plt"
   ]
  },
  {
   "cell_type": "code",
   "execution_count": 100,
   "metadata": {},
   "outputs": [
    {
     "name": "stdout",
     "output_type": "stream",
     "text": [
      "Min count = 1\n",
      "Max count = 1248\n",
      "Mean value = 3.09\n",
      "Std value = 14.66\n"
     ]
    },
    {
     "data": {
      "text/plain": [
       "<AxesSubplot:>"
      ]
     },
     "execution_count": 100,
     "metadata": {},
     "output_type": "execute_result"
    },
    {
     "data": {
      "image/png": "[encoded data removed]",
      "text/plain": [
       "<Figure size 432x288 with 1 Axes>"
      ]
     },
     "metadata": {
      "needs_background": "light"
     },
     "output_type": "display_data"
    }
   ],
   "source": [
    "advanced_transactions_count = advanced['transactions'].sum()\n",
    "plt = advanced_transactions_count.hist(bins=100)\n",
    "plt.set_xlim([1, 300])\n",
    "print('Min count =', advanced_transactions_count.min())\n",
    "print('Max count =', advanced_transactions_count.max())\n",
    "print('Mean value = {:.2f}'.format(advanced_transactions_count.mean()))\n",
    "print('Std value = {:.2f}'.format(advanced_transactions_count.std()))\n",
    "plt"
   ]
  },
  {
   "cell_type": "code",
   "execution_count": 113,
   "metadata": {},
   "outputs": [
    {
     "name": "stdout",
     "output_type": "stream",
     "text": [
      "Amount of paying users = 1278186\n",
      "Amount of paying users with basic product = 990428\n",
      "Amount of paying users with advanced product = 287758\n"
     ]
    }
   ],
   "source": [
    "paying_users_cnt = df[df['transactions'] > 0]['user_id'].count()\n",
    "basic_paying_users_cnt = df[(df['transactions'] > 0) & (df['product'] == 'basic')]['user_id'].count()\n",
    "advanced_paying_users_cnt = df[(df['transactions'] > 0) & (df['product'] == 'advanced')]['user_id'].count()\n",
    "print('Amount of paying users =', paying_users_cnt)\n",
    "print('Amount of paying users with basic product =', basic_paying_users_cnt)\n",
    "print('Amount of paying users with advanced product =', advanced_paying_users_cnt)    "
   ]
  },
  {
   "cell_type": "markdown",
   "metadata": {},
   "source": [
    "Нарисуем также boxplot для average revenue per user"
   ]
  },
  {
   "cell_type": "code",
   "execution_count": 205,
   "metadata": {},
   "outputs": [
    {
     "name": "stderr",
     "output_type": "stream",
     "text": [
      "/Users/ivtarasyuk/Library/Python/3.8/lib/python/site-packages/seaborn/_decorators.py:36: FutureWarning: Pass the following variable as a keyword arg: x. From version 0.12, the only valid positional argument will be `data`, and passing other arguments without an explicit keyword will result in an error or misinterpretation.\n",
      "  warnings.warn(\n",
      "/Users/ivtarasyuk/Library/Python/3.8/lib/python/site-packages/seaborn/_core.py:1326: UserWarning: Vertical orientation ignored with only `x` specified.\n",
      "  warnings.warn(single_var_warning.format(\"Vertical\", \"x\"))\n"
     ]
    },
    {
     "data": {
      "text/plain": [
       "<AxesSubplot:>"
      ]
     },
     "execution_count": 205,
     "metadata": {},
     "output_type": "execute_result"
    },
    {
     "data": {
      "image/png": "[encoded data removed]",
      "text/plain": [
       "<Figure size 432x288 with 1 Axes>"
      ]
     },
     "metadata": {
      "needs_background": "light"
     },
     "output_type": "display_data"
    }
   ],
   "source": [
    "aov = total['amount'].sum() / total['transactions'].sum()\n",
    "plt = sns.boxplot(aov, orient = 'v')\n",
    "plt"
   ]
  },
  {
   "cell_type": "markdown",
   "metadata": {},
   "source": [
    "Проанализируем также average order value (per user) = total sum(amount) / total sum(transactions) "
   ]
  },
  {
   "cell_type": "code",
   "execution_count": 207,
   "metadata": {},
   "outputs": [
    {
     "name": "stdout",
     "output_type": "stream",
     "text": [
      "Average Order Value = 185.24\n"
     ]
    }
   ],
   "source": [
    "aov = df.amount.sum() / df.transactions.sum()\n",
    "print('Average Order Value = {:.2f}'.format(aov))"
   ]
  },
  {
   "cell_type": "markdown",
   "metadata": {},
   "source": [
    "У нас есть 2 гипотезы:\n",
    "\n",
    "1) Дополнительное информирование об эффективности услуг будет стимулировать их покупку;\n",
    "\n",
    "2) Повышение цены базового продукта должно стимулировать покупку продвинутого продукта"
   ]
  },
  {
   "cell_type": "markdown",
   "metadata": {},
   "source": [
    "Для 1 гипотезы зафиксируем следующие метрики:\n",
    "\n",
    "average revenue per user (ARPU)\n",
    "\n",
    "количество транзакций per user\n",
    "\n",
    "average order value per user (AOV)\n",
    "\n",
    "количество paying users\n",
    "\n",
    "Будем отслеживать рост данных метрик. В случае, если выручка с одного пользователя и количество пользователей увеличились или увеличилось число транзакций и средний чек, то общая выручка также увеличалась. Проверяем, статистически ли значимо данное изменение в общей выручке или нет"
   ]
  },
  {
   "cell_type": "markdown",
   "metadata": {},
   "source": [
    "Для 2 гипотезы в качестве метрик возьмём следующие две:\n",
    "\n",
    "количество транзакций\n",
    "\n",
    "средний чек транзакции \n",
    "\n",
    "Сравним метрики для базового и продвинутого продуктов до повышения цены и после. В случае, если изменение в данных будет статистически значимым, нулевая гипотеза подтвердится"
   ]
  },
  {
   "cell_type": "markdown",
   "metadata": {},
   "source": [
    "Теперь рассмотрим разные планы проведения экспериментов (разные по длительности и размеру группы)"
   ]
  },
  {
   "cell_type": "code",
   "execution_count": 146,
   "metadata": {},
   "outputs": [],
   "source": [
    "def choose_date(data, start_date, delta, share): \n",
    "    tmp = data[(data.event_date >= start_date) & (data.event_date <= start_date + datetime.timedelta(days=delta))]\n",
    "    tmp = tmp.groupby(['user_id']).sum().reset_index()\n",
    "    x = tmp[(tmp.user_id) % 100 <= int(100 * share)]\n",
    "    return x"
   ]
  },
  {
   "cell_type": "code",
   "execution_count": 151,
   "metadata": {},
   "outputs": [
    {
     "name": "stdout",
     "output_type": "stream",
     "text": [
      "duration: 21 group size: 1 1.34\n",
      "duration: 21 group size: 3 1.34\n",
      "duration: 21 group size: 5 1.34\n",
      "duration: 21 group size: 7 1.34\n",
      "duration: 21 group size: 9 1.34\n",
      "duration: 28 group size: 1 1.30\n",
      "duration: 28 group size: 3 1.30\n",
      "duration: 28 group size: 5 1.30\n",
      "duration: 28 group size: 7 1.30\n",
      "duration: 28 group size: 9 1.30\n",
      "duration: 35 group size: 1 1.28\n",
      "duration: 35 group size: 3 1.28\n",
      "duration: 35 group size: 5 1.28\n",
      "duration: 35 group size: 7 1.28\n",
      "duration: 35 group size: 9 1.28\n",
      "duration: 42 group size: 1 1.27\n",
      "duration: 42 group size: 3 1.27\n",
      "duration: 42 group size: 5 1.27\n",
      "duration: 42 group size: 7 1.27\n",
      "duration: 42 group size: 9 1.27\n",
      "duration: 49 group size: 1 1.26\n",
      "duration: 49 group size: 3 1.26\n",
      "duration: 49 group size: 5 1.26\n",
      "duration: 49 group size: 7 1.26\n",
      "duration: 49 group size: 9 1.26\n",
      "duration: 56 group size: 1 1.26\n",
      "duration: 56 group size: 3 1.26\n",
      "duration: 56 group size: 5 1.26\n",
      "duration: 56 group size: 7 1.26\n",
      "duration: 56 group size: 9 1.26\n",
      "duration: 63 group size: 1 1.23\n",
      "duration: 63 group size: 3 1.23\n",
      "duration: 63 group size: 5 1.23\n",
      "duration: 63 group size: 7 1.23\n",
      "duration: 63 group size: 9 1.23\n",
      "duration: 70 group size: 1 1.21\n",
      "duration: 70 group size: 3 1.21\n",
      "duration: 70 group size: 5 1.21\n",
      "duration: 70 group size: 7 1.21\n",
      "duration: 70 group size: 9 1.21\n",
      "duration: 77 group size: 1 1.19\n",
      "duration: 77 group size: 3 1.19\n",
      "duration: 77 group size: 5 1.19\n",
      "duration: 77 group size: 7 1.19\n",
      "duration: 77 group size: 9 1.19\n",
      "duration: 84 group size: 1 1.18\n",
      "duration: 84 group size: 3 1.18\n",
      "duration: 84 group size: 5 1.18\n",
      "duration: 84 group size: 7 1.18\n",
      "duration: 84 group size: 9 1.18\n",
      "duration: 91 group size: 1 1.16\n",
      "duration: 91 group size: 3 1.16\n",
      "duration: 91 group size: 5 1.16\n",
      "duration: 91 group size: 7 1.16\n",
      "duration: 91 group size: 9 1.16\n"
     ]
    }
   ],
   "source": [
    "from statsmodels.stats.power import tt_ind_solve_power\n",
    "\n",
    "for duration in range(21, 98, 7):\n",
    "    for size in range (2, 6, 2):\n",
    "        \n",
    "        x1 = choose_date(df, min(df.event_date), duration, size) #получаем необходимую подвыборку\n",
    " \n",
    "        mean = x1.amount.mean()\n",
    "        std = x1.amount.std()\n",
    " \n",
    "        alpha = 0.01\n",
    "        power = 0.8\n",
    "        result_effect = 0.04 # целевой размер относительного отклонения исходной метрики\n",
    "        effect_size = (mean /std) * result_effect\n",
    " \n",
    "    \n",
    "        sample_vol = tt_ind_solve_power(effect_size=effect_size, alpha=alpha, power=power, nobs1=None, ratio=1, alternative = 'two-sided')    \n",
    "        print('duration:', duration, \n",
    "              'group size:', size/10,\n",
    "              '{:.2f}'.format(sample_vol / x1.shape[0]))"
   ]
  },
  {
   "cell_type": "markdown",
   "metadata": {},
   "source": [
    "Видно, что с увеличением длительности увеличивается точность (множитель того, во сколько необходимо изменить размер выборки, уменьшается)\n",
    "\n",
    "Поэтому наилучшие результаты при длительности 91 день"
   ]
  }
 ],
 "metadata": {
  "kernelspec": {
   "display_name": "Python 3 (ipykernel)",
   "language": "python",
   "name": "python3"
  },
  "language_info": {
   "codemirror_mode": {
    "name": "ipython",
    "version": 3
   },
   "file_extension": ".py",
   "mimetype": "text/x-python",
   "name": "python",
   "nbconvert_exporter": "python",
   "pygments_lexer": "ipython3",
   "version": "3.8.9"
  }
 },
 "nbformat": 4,
 "nbformat_minor": 4
}
